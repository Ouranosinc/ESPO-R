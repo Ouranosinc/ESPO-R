{
 "cells": [
  {
   "cell_type": "code",
   "execution_count": 1,
   "id": "4f7f8352",
   "metadata": {},
   "outputs": [
    {
     "name": "stdout",
     "output_type": "stream",
     "text": [
      "2023-05-01 15:57:52,419 - pint.util - WARNING - Redefining 'year' (<class 'pint.delegates.txt_defparser.plain.UnitDefinition'>)\n",
      "2023-05-01 15:57:52,421 - pint.util - WARNING - Redefining 'yr' (<class 'pint.delegates.txt_defparser.plain.UnitDefinition'>)\n",
      "2023-05-01 15:57:52,424 - pint.util - WARNING - Redefining 'C' (<class 'pint.delegates.txt_defparser.plain.UnitDefinition'>)\n",
      "2023-05-01 15:57:52,428 - pint.util - WARNING - Redefining 'd' (<class 'pint.delegates.txt_defparser.plain.UnitDefinition'>)\n",
      "2023-05-01 15:57:52,431 - pint.util - WARNING - Redefining 'h' (<class 'pint.delegates.txt_defparser.plain.UnitDefinition'>)\n",
      "2023-05-01 15:57:52,434 - pint.util - WARNING - Redefining 'degrees_north' (<class 'pint.delegates.txt_defparser.plain.UnitDefinition'>)\n",
      "2023-05-01 15:57:52,438 - pint.util - WARNING - Redefining 'degrees_east' (<class 'pint.delegates.txt_defparser.plain.UnitDefinition'>)\n",
      "2023-05-01 15:57:52,441 - pint.util - WARNING - Redefining '[speed]' (<class 'pint.delegates.txt_defparser.plain.DerivedDimensionDefinition'>)\n",
      "2023-05-01 15:57:52,505 - pint.util - WARNING - Redefining '[radiation]' (<class 'pint.delegates.txt_defparser.plain.DerivedDimensionDefinition'>)\n"
     ]
    }
   ],
   "source": [
    "import dask\n",
    "from dask.diagnostics import ProgressBar\n",
    "#from dask.distributed import Client\n",
    "from clisops.core.subset import create_weight_masks\n",
    "import geopandas as gpd\n",
    "from pathlib import Path\n",
    "from siphon.catalog import TDSCatalog\n",
    "import xarray as xr\n",
    "import xclim as xc\n",
    "import xscen as xs\n",
    "dask.config.set(num_workers=8)\n",
    "ProgressBar().register()"
   ]
  },
  {
   "cell_type": "code",
   "execution_count": 2,
   "id": "3284b80f",
   "metadata": {},
   "outputs": [],
   "source": [
    "# Create Catalog\n",
    "cat6 = TDSCatalog('https://pavics.ouranos.ca/testthredds/catalog/testdatasets/CanDCS-U6/catalog.xml')\n",
    "cat5 = TDSCatalog('https://pavics.ouranos.ca/twitcher/ows/proxy/thredds/catalog/datasets/simulations/bias_adjusted/cmip5/pcic/bccaqv2/catalog.xml')"
   ]
  },
  {
   "cell_type": "code",
   "execution_count": 3,
   "id": "5a3461c8",
   "metadata": {},
   "outputs": [],
   "source": [
    "hausfat = [\n",
    "    \"BCC-CSM2-MR\", \"FGOALS-g3\", \"CMCC-ESM2\", \"CNRM-ESM2-1\", \"ACCESS-CM2\", \"ACCESS-ESM1-5\",\n",
    "    \"MPI-ESM1-2-HR\", \"INM-CM5-0\", \"MIROC6\", \"MPI-ESM1-2-LR\", \"MRI-ESM2-0\", \"NorESM2-LM\", \"KACE-1-0-G\", \"GFDL-ESM4\"\n",
    "]\n",
    "sgmembs = [\n",
    "    'CanESM2', 'CMCC-CMS', 'ACCESS1-3', 'BNU-ESM', 'INM-CM4',\n",
    "    'IPSL-CM5A-LR', 'IPSL-CM5B-LR', 'HadGEM2-CC', 'MPI-ESM-LR', 'NorESM1-M', 'GFDL-ESM2M'\n",
    "]\n",
    "pcic12 = [\n",
    "    (\"ACCESS1-0\" , \"r1i1p1\"),\n",
    "    (\"CCSM4\" , \"r2i1p1\"),\n",
    "    (\"CNRM-CM5\" , \"r1i1p1\"),\n",
    "    (\"CSIRO-Mk3-6-0\" , \"r1i1p1\"),\n",
    "    (\"CanESM2\" , \"r1i1p1\"),\n",
    "    (\"GFDL-ESM2G\" , \"r1i1p1\"),\n",
    "    (\"HadGEM2-CC\" , \"r1i1p1\"),\n",
    "    (\"HadGEM2-ES\" , \"r1i1p1\"),\n",
    "    (\"MIROC5\" , \"r3i1p1\"),\n",
    "    (\"MPI-ESM-LR\" , \"r3i1p1\"),\n",
    "    (\"MRI-CGCM3\" , \"r1i1p1\"),\n",
    "    (\"inmcm4\" , \"r1i1p1\")\n",
    "]\n",
    "\n",
    "\n",
    "probreg = dict(\n",
    "    name=\"prob-reg\",\n",
    "    method=\"bbox\",\n",
    "    bbox=dict(\n",
    "        lat_bnds=[45, 47],\n",
    "        lon_bnds=[-75, -70]\n",
    "    ),\n",
    ")\n",
    "QC = dict(\n",
    "    name=\"QC-rdrs\",\n",
    "    method=\"bbox\",\n",
    "    bbox=dict(\n",
    "        lon_bnds=[-82.7, -55],\n",
    "        lat_bnds=[41, 63]\n",
    "    )\n",
    ")\n",
    "\n",
    "okreg = dict(\n",
    "    name=\"ok-reg\",\n",
    "    method=\"bbox\",\n",
    "    bbox=dict(\n",
    "        lat_bnds=[48, 50],\n",
    "        lon_bnds=[-75, -70]\n",
    "    ),\n",
    ")\n",
    "root = Path('/exec/pbourg/ESPO-G/indsanal/')\n",
    "#regions = gpd.read_file('/exec/pbourg/PC/20230226/regions_simplified_admin.geojson')\n",
    "#estrie = regions.iloc[[29]]"
   ]
  },
  {
   "cell_type": "code",
   "execution_count": 28,
   "id": "ced10eee",
   "metadata": {},
   "outputs": [
    {
     "name": "stdout",
     "output_type": "stream",
     "text": [
      "Processing CanDCS-U6_CMIP6_ScenarioMIP_NorESM2-LM_NorESM2-LM_ssp245_r1i1p1f1_CAN\n",
      "Monthly\n",
      "[########################################] | 100% Completed | 536.56 s\n",
      "Processing CanDCS-U6_CMIP6_ScenarioMIP_MRI-ESM2-0_MRI-ESM2-0_ssp245_r1i1p1f1_CAN\n",
      "Daily\n",
      "[########################################] | 100% Completed | 23m 59s\n",
      "Monthly\n",
      "[########################################] | 100% Completed | 573.67 s\n",
      "Processing CanDCS-U6_CMIP6_ScenarioMIP_MPI-ESM1-2-LR_MPI-ESM1-2-LR_ssp245_r1i1p1f1_CAN\n",
      "Daily\n",
      "[########################################] | 100% Completed | 23m 45s\n",
      "Monthly\n",
      "[########################################] | 100% Completed | 531.89 s\n",
      "Processing CanDCS-U6_CMIP6_ScenarioMIP_MPI-ESM1-2-HR_MPI-ESM1-2-HR_ssp245_r1i1p1f1_CAN\n",
      "Daily\n",
      "[########################################] | 100% Completed | 23m 37s\n",
      "Monthly\n",
      "[########################################] | 100% Completed | 558.48 s\n",
      "Processing CanDCS-U6_CMIP6_ScenarioMIP_MIROC6_MIROC6_ssp245_r1i1p1f1_CAN\n",
      "Daily\n",
      "[########################################] | 100% Completed | 24m 43s\n",
      "Monthly\n",
      "[########################################] | 100% Completed | 526.19 s\n",
      "Processing CanDCS-U6_CMIP6_ScenarioMIP_KACE-1-0-G_KACE-1-0-G_ssp245_r1i1p1f1_CAN\n",
      "Daily\n",
      "[########################################] | 100% Completed | 23m 37s\n",
      "Monthly\n",
      "[########################################] | 100% Completed | 529.04 s\n",
      "Processing CanDCS-U6_CMIP6_ScenarioMIP_INM-CM5-0_INM-CM5-0_ssp245_r1i1p1f1_CAN\n",
      "Daily\n",
      "[########################################] | 100% Completed | 22m 54s\n",
      "Monthly\n",
      "[########################################] | 100% Completed | 586.50 s\n",
      "Processing CanDCS-U6_CMIP6_ScenarioMIP_GFDL-ESM4_GFDL-ESM4_ssp245_r1i1p1f1_CAN\n",
      "Daily\n",
      "[########################################] | 100% Completed | 23m 49s\n",
      "Monthly\n",
      "[########################################] | 100% Completed | 552.28 s\n",
      "Processing CanDCS-U6_CMIP6_ScenarioMIP_FGOALS-g3_FGOALS-g3_ssp245_r1i1p1f1_CAN\n",
      "Daily\n",
      "[########################################] | 100% Completed | 23m 51s\n",
      "Monthly\n",
      "[########################################] | 100% Completed | 564.51 s\n",
      "Processing CanDCS-U6_CMIP6_ScenarioMIP_CNRM-ESM2-1_CNRM-ESM2-1_ssp245_r1i1p1f1_CAN\n",
      "Daily\n",
      "[########################################] | 100% Completed | 23m 6ss\n",
      "Monthly\n",
      "[########################################] | 100% Completed | 595.98 s\n",
      "Processing CanDCS-U6_CMIP6_ScenarioMIP_CMCC-ESM2_CMCC-ESM2_ssp245_r1i1p1f1_CAN\n",
      "Daily\n",
      "[########################################] | 100% Completed | 23m 26s\n",
      "Monthly\n",
      "[########################################] | 100% Completed | 10m 2ss\n",
      "Processing CanDCS-U6_CMIP6_ScenarioMIP_BCC-CSM2-MR_BCC-CSM2-MR_ssp245_r1i1p1f1_CAN\n",
      "Daily\n",
      "[########################################] | 100% Completed | 23m 13s\n",
      "Monthly\n",
      "[########################################] | 100% Completed | 533.87 s\n",
      "Processing CanDCS-U6_CMIP6_ScenarioMIP_ACCESS-ESM1-5_ACCESS-ESM1-5_ssp245_r1i1p1f1_CAN\n",
      "Daily\n",
      "[########################################] | 100% Completed | 23m 40s\n",
      "Monthly\n",
      "[########################################] | 100% Completed | 541.73 s\n",
      "Processing CanDCS-U6_CMIP6_ScenarioMIP_ACCESS-CM2_ACCESS-CM2_ssp245_r1i1p1f1_CAN\n",
      "Daily\n",
      "[########################################] | 100% Completed | 23m 20s\n",
      "Monthly\n",
      "[########################################] | 100% Completed | 556.74 s\n"
     ]
    }
   ],
   "source": [
    "template = 'CanDCS-U6_CMIP6_ScenarioMIP_{model}_{model}_ssp245_r1i1p1f1_CAN'\n",
    "\n",
    "for name, dsi in cat6.datasets.items():\n",
    "    parts = name.split('_')\n",
    "    if not ('ssp245' in parts[3] and parts[2] in hausfat):\n",
    "        continue\n",
    "        \n",
    "    dsid = template.format(model=parts[2])   \n",
    "    print('Processing', dsid)\n",
    "    outfile = Path(f'/exec/pbourg/ESPO-G/indsanal/day_{dsid}_QC.zarr')\n",
    "    if not outfile.is_dir():\n",
    "        print('Daily')\n",
    "        dsi = xr.open_dataset(\n",
    "            dsi.access_urls['OPENDAP'],\n",
    "            chunks={'lat': 50, 'lon': 50},\n",
    "        )\n",
    "        ds = xs.extract.clisops_subset(dsi, region=QC)\n",
    "        ds = xr.concat(\n",
    "            [ds.sel(time=slice('1991', '2020')), ds.sel(time=slice('2071', '2100'))],\n",
    "            'time'\n",
    "        )\n",
    "        #ds.cf.chunk({'X': -1, 'Y': -1})\n",
    "        ds.to_zarr(outfile)\n",
    "\n",
    "    outfile2 = outfile.parent / outfile.name.replace('day_', 'mon_')\n",
    "    if outfile2.is_dir():\n",
    "        print('Done')\n",
    "        continue\n",
    "    ds = xr.open_zarr(outfile)\n",
    "    out = xr.concat(\n",
    "        [\n",
    "            xc.atmos.daily_freezethaw_cycles(ds=ds.sel(time=sel), freq='MS')\n",
    "            for sel in [slice('1991', '2020'), slice('2071', '2100')]\n",
    "        ],\n",
    "        'time'\n",
    "    ).to_dataset().chunk({'time': -1})\n",
    "    print('Monthly')\n",
    "    out.to_zarr(outfile2)\n"
   ]
  },
  {
   "cell_type": "code",
   "execution_count": 23,
   "id": "209f993f",
   "metadata": {},
   "outputs": [
    {
     "data": {
      "text/plain": [
       "(50, 50, 50, 50, 50, 14)"
      ]
     },
     "execution_count": 23,
     "metadata": {},
     "output_type": "execute_result"
    }
   ],
   "source": [
    "dsi.sel(lat=slice(41, 63)).tasmin.chunks[1]"
   ]
  },
  {
   "cell_type": "code",
   "execution_count": 5,
   "id": "e5d8ae08",
   "metadata": {},
   "outputs": [
    {
     "name": "stdout",
     "output_type": "stream",
     "text": [
      "not day_bcc-csm1-1_historical+rcp85_r1i1p1_19500101-21001231_bccaqv2.ncml\n",
      "Processing CanDCS-U5_CMIP5_ScenarioMIP_bcc-csm1-1_bcc-csm1-1_rcp45_r1i1p1f1_CAN\n",
      "Daily\n"
     ]
    },
    {
     "name": "stderr",
     "output_type": "stream",
     "text": [
      "/home/pbourg/Projets/xscen/xscen/extract.py:73: FutureWarning: clisops_subset is deprecated and will not be available in future versions. Use xscen.spatial.subset instead.\n"
     ]
    },
    {
     "name": "stdout",
     "output_type": "stream",
     "text": [
      "[########################################] | 100% Completed | 85.53 s\n",
      "not day_bcc-csm1-1_historical+rcp26_r1i1p1_19500101-21001231_bccaqv2.ncml\n",
      "not day_bcc-csm1-1-m_historical+rcp85_r1i1p1_19500101-21001231_bccaqv2.ncml\n",
      "Processing CanDCS-U5_CMIP5_ScenarioMIP_bcc-csm1-1-m_bcc-csm1-1-m_rcp45_r1i1p1f1_CAN\n",
      "Daily\n"
     ]
    },
    {
     "name": "stderr",
     "output_type": "stream",
     "text": [
      "/home/pbourg/Projets/xscen/xscen/extract.py:73: FutureWarning: clisops_subset is deprecated and will not be available in future versions. Use xscen.spatial.subset instead.\n"
     ]
    },
    {
     "name": "stdout",
     "output_type": "stream",
     "text": [
      "[########################################] | 100% Completed | 11m 10s\n",
      "not day_bcc-csm1-1-m_historical+rcp26_r1i1p1_19500101-21001231_bccaqv2.ncml\n",
      "not day_NorESM1-M_historical+rcp85_r1i1p1_19500101-21001231_bccaqv2.ncml\n",
      "Processing CanDCS-U5_CMIP5_ScenarioMIP_NorESM1-M_NorESM1-M_rcp45_r1i1p1f1_CAN\n",
      "not day_NorESM1-M_historical+rcp26_r1i1p1_19500101-21001231_bccaqv2.ncml\n",
      "not day_NorESM1-ME_historical+rcp85_r1i1p1_19500101-21001231_bccaqv2.ncml\n",
      "Processing CanDCS-U5_CMIP5_ScenarioMIP_NorESM1-ME_NorESM1-ME_rcp45_r1i1p1f1_CAN\n",
      "Daily\n"
     ]
    },
    {
     "name": "stderr",
     "output_type": "stream",
     "text": [
      "/home/pbourg/Projets/xscen/xscen/extract.py:73: FutureWarning: clisops_subset is deprecated and will not be available in future versions. Use xscen.spatial.subset instead.\n"
     ]
    },
    {
     "name": "stdout",
     "output_type": "stream",
     "text": [
      "[########################################] | 100% Completed | 10m 56s\n",
      "not day_NorESM1-ME_historical+rcp26_r1i1p1_19500101-21001231_bccaqv2.ncml\n",
      "not day_MRI-CGCM3_historical+rcp85_r1i1p1_19500101-21001231_bccaqv2.ncml\n",
      "Processing CanDCS-U5_CMIP5_ScenarioMIP_MRI-CGCM3_MRI-CGCM3_rcp45_r1i1p1f1_CAN\n",
      "Daily\n"
     ]
    },
    {
     "name": "stderr",
     "output_type": "stream",
     "text": [
      "/home/pbourg/Projets/xscen/xscen/extract.py:73: FutureWarning: clisops_subset is deprecated and will not be available in future versions. Use xscen.spatial.subset instead.\n"
     ]
    },
    {
     "name": "stdout",
     "output_type": "stream",
     "text": [
      "[########################################] | 100% Completed | 81.42 s\n",
      "not day_MRI-CGCM3_historical+rcp26_r1i1p1_19500101-21001231_bccaqv2.ncml\n",
      "not day_MPI-ESM-MR_historical+rcp85_r1i1p1_19500101-21001231_bccaqv2.ncml\n",
      "Processing CanDCS-U5_CMIP5_ScenarioMIP_MPI-ESM-MR_MPI-ESM-MR_rcp45_r1i1p1f1_CAN\n",
      "Daily\n"
     ]
    },
    {
     "name": "stderr",
     "output_type": "stream",
     "text": [
      "/home/pbourg/Projets/xscen/xscen/extract.py:73: FutureWarning: clisops_subset is deprecated and will not be available in future versions. Use xscen.spatial.subset instead.\n"
     ]
    },
    {
     "name": "stdout",
     "output_type": "stream",
     "text": [
      "[########################################] | 100% Completed | 10m 56s\n",
      "not day_MPI-ESM-MR_historical+rcp26_r1i1p1_19500101-21001231_bccaqv2.ncml\n",
      "not day_MPI-ESM-LR_historical+rcp85_r1i1p1_19500101-21001231_bccaqv2.ncml\n",
      "Processing CanDCS-U5_CMIP5_ScenarioMIP_MPI-ESM-LR_MPI-ESM-LR_rcp45_r1i1p1f1_CAN\n",
      "not day_MPI-ESM-LR_historical+rcp26_r1i1p1_19500101-21001231_bccaqv2.ncml\n",
      "not day_MIROC5_historical+rcp85_r1i1p1_19500101-21001231_bccaqv2.ncml\n",
      "Processing CanDCS-U5_CMIP5_ScenarioMIP_MIROC5_MIROC5_rcp45_r1i1p1f1_CAN\n",
      "Daily\n"
     ]
    },
    {
     "name": "stderr",
     "output_type": "stream",
     "text": [
      "/home/pbourg/Projets/xscen/xscen/extract.py:73: FutureWarning: clisops_subset is deprecated and will not be available in future versions. Use xscen.spatial.subset instead.\n"
     ]
    },
    {
     "name": "stdout",
     "output_type": "stream",
     "text": [
      "[########################################] | 100% Completed | 12m 30s\n",
      "not day_MIROC5_historical+rcp26_r1i1p1_19500101-21001231_bccaqv2.ncml\n",
      "not day_MIROC-ESM_historical+rcp85_r1i1p1_19500101-21001231_bccaqv2.ncml\n",
      "Processing CanDCS-U5_CMIP5_ScenarioMIP_MIROC-ESM_MIROC-ESM_rcp45_r1i1p1f1_CAN\n",
      "Daily\n"
     ]
    },
    {
     "name": "stderr",
     "output_type": "stream",
     "text": [
      "/home/pbourg/Projets/xscen/xscen/extract.py:73: FutureWarning: clisops_subset is deprecated and will not be available in future versions. Use xscen.spatial.subset instead.\n"
     ]
    },
    {
     "name": "stdout",
     "output_type": "stream",
     "text": [
      "[########################################] | 100% Completed | 11m 8ss\n",
      "not day_MIROC-ESM_historical+rcp26_r1i1p1_19500101-21001231_bccaqv2.ncml\n",
      "not day_MIROC-ESM-CHEM_historical+rcp85_r1i1p1_19500101-21001231_bccaqv2.ncml\n",
      "Processing CanDCS-U5_CMIP5_ScenarioMIP_MIROC-ESM-CHEM_MIROC-ESM-CHEM_rcp45_r1i1p1f1_CAN\n",
      "Daily\n"
     ]
    },
    {
     "name": "stderr",
     "output_type": "stream",
     "text": [
      "/home/pbourg/Projets/xscen/xscen/extract.py:73: FutureWarning: clisops_subset is deprecated and will not be available in future versions. Use xscen.spatial.subset instead.\n"
     ]
    },
    {
     "name": "stdout",
     "output_type": "stream",
     "text": [
      "[########################################] | 100% Completed | 10m 40s\n",
      "not day_MIROC-ESM-CHEM_historical+rcp26_r1i1p1_19500101-21001231_bccaqv2.ncml\n",
      "not day_IPSL-CM5A-MR_historical+rcp85_r1i1p1_19500101-21001231_bccaqv2.ncml\n",
      "Processing CanDCS-U5_CMIP5_ScenarioMIP_IPSL-CM5A-MR_IPSL-CM5A-MR_rcp45_r1i1p1f1_CAN\n",
      "Daily\n"
     ]
    },
    {
     "name": "stderr",
     "output_type": "stream",
     "text": [
      "/home/pbourg/Projets/xscen/xscen/extract.py:73: FutureWarning: clisops_subset is deprecated and will not be available in future versions. Use xscen.spatial.subset instead.\n"
     ]
    },
    {
     "name": "stdout",
     "output_type": "stream",
     "text": [
      "[########################################] | 100% Completed | 10m 45s\n",
      "not day_IPSL-CM5A-MR_historical+rcp26_r1i1p1_19500101-21001231_bccaqv2.ncml\n",
      "not day_IPSL-CM5A-LR_historical+rcp85_r1i1p1_19500101-21001231_bccaqv2.ncml\n",
      "Processing CanDCS-U5_CMIP5_ScenarioMIP_IPSL-CM5A-LR_IPSL-CM5A-LR_rcp45_r1i1p1f1_CAN\n",
      "not day_IPSL-CM5A-LR_historical+rcp26_r1i1p1_19500101-21001231_bccaqv2.ncml\n",
      "not day_HadGEM2-ES_historical+rcp85_r1i1p1_19500101-21001231_bccaqv2.ncml\n",
      "Processing CanDCS-U5_CMIP5_ScenarioMIP_HadGEM2-ES_HadGEM2-ES_rcp45_r1i1p1f1_CAN\n",
      "Daily\n"
     ]
    },
    {
     "name": "stderr",
     "output_type": "stream",
     "text": [
      "/home/pbourg/Projets/xscen/xscen/extract.py:73: FutureWarning: clisops_subset is deprecated and will not be available in future versions. Use xscen.spatial.subset instead.\n"
     ]
    },
    {
     "name": "stdout",
     "output_type": "stream",
     "text": [
      "[########################################] | 100% Completed | 99.93 s\n",
      "not day_HadGEM2-ES_historical+rcp26_r1i1p1_19500101-21001231_bccaqv2.ncml\n",
      "not day_HadGEM2-AO_historical+rcp85_r1i1p1_19500101-21001231_bccaqv2.ncml\n",
      "Processing CanDCS-U5_CMIP5_ScenarioMIP_HadGEM2-AO_HadGEM2-AO_rcp45_r1i1p1f1_CAN\n",
      "Daily\n"
     ]
    },
    {
     "name": "stderr",
     "output_type": "stream",
     "text": [
      "/home/pbourg/Projets/xscen/xscen/extract.py:73: FutureWarning: clisops_subset is deprecated and will not be available in future versions. Use xscen.spatial.subset instead.\n"
     ]
    },
    {
     "name": "stdout",
     "output_type": "stream",
     "text": [
      "[########################################] | 100% Completed | 10m 48s\n",
      "not day_HadGEM2-AO_historical+rcp26_r1i1p1_19500101-21001231_bccaqv2.ncml\n",
      "not day_GFDL-ESM2M_historical+rcp85_r1i1p1_19500101-21001231_bccaqv2.ncml\n",
      "Processing CanDCS-U5_CMIP5_ScenarioMIP_GFDL-ESM2M_GFDL-ESM2M_rcp45_r1i1p1f1_CAN\n",
      "not day_GFDL-ESM2M_historical+rcp26_r1i1p1_19500101-21001231_bccaqv2.ncml\n",
      "not day_GFDL-ESM2G_historical+rcp85_r1i1p1_19500101-21001231_bccaqv2.ncml\n",
      "Processing CanDCS-U5_CMIP5_ScenarioMIP_GFDL-ESM2G_GFDL-ESM2G_rcp45_r1i1p1f1_CAN\n",
      "Daily\n"
     ]
    },
    {
     "name": "stderr",
     "output_type": "stream",
     "text": [
      "/home/pbourg/Projets/xscen/xscen/extract.py:73: FutureWarning: clisops_subset is deprecated and will not be available in future versions. Use xscen.spatial.subset instead.\n"
     ]
    },
    {
     "name": "stdout",
     "output_type": "stream",
     "text": [
      "[########################################] | 100% Completed | 86.36 s\n",
      "not day_GFDL-ESM2G_historical+rcp26_r1i1p1_19500101-21001231_bccaqv2.ncml\n",
      "not day_GFDL-CM3_historical+rcp85_r1i1p1_19500101-21001231_bccaqv2.ncml\n",
      "Processing CanDCS-U5_CMIP5_ScenarioMIP_GFDL-CM3_GFDL-CM3_rcp45_r1i1p1f1_CAN\n",
      "Daily\n"
     ]
    },
    {
     "name": "stderr",
     "output_type": "stream",
     "text": [
      "/home/pbourg/Projets/xscen/xscen/extract.py:73: FutureWarning: clisops_subset is deprecated and will not be available in future versions. Use xscen.spatial.subset instead.\n"
     ]
    },
    {
     "name": "stdout",
     "output_type": "stream",
     "text": [
      "[########################################] | 100% Completed | 10m 27s\n",
      "not day_GFDL-CM3_historical+rcp26_r1i1p1_19500101-21001231_bccaqv2.ncml\n",
      "not day_FGOALS-g2_historical+rcp85_r1i1p1_19500101-21001231_bccaqv2.ncml\n",
      "Processing CanDCS-U5_CMIP5_ScenarioMIP_FGOALS-g2_FGOALS-g2_rcp45_r1i1p1f1_CAN\n",
      "Daily\n"
     ]
    },
    {
     "name": "stderr",
     "output_type": "stream",
     "text": [
      "/home/pbourg/Projets/xscen/xscen/extract.py:73: FutureWarning: clisops_subset is deprecated and will not be available in future versions. Use xscen.spatial.subset instead.\n",
      "/exec/pbourg/.conda/xscen/lib/python3.10/site-packages/xarray/coding/times.py:150: SerializationWarning: Ambiguous reference date string: 1-01-01 00:00:00. The first value is assumed to be the year hence will be padded with zeros to remove the ambiguity (the padded reference date string is: 0001-01-01 00:00:00). To remove this message, remove the ambiguity by padding your reference date strings with zeros.\n"
     ]
    },
    {
     "name": "stdout",
     "output_type": "stream",
     "text": [
      "[########################################] | 100% Completed | 10m 20s\n",
      "not day_FGOALS-g2_historical+rcp26_r1i1p1_19500101-21001231_bccaqv2.ncml\n",
      "not day_CanESM2_historical+rcp85_r1i1p1_19500101-21001231_bccaqv2.ncml\n",
      "Processing CanDCS-U5_CMIP5_ScenarioMIP_CanESM2_CanESM2_rcp45_r1i1p1f1_CAN\n",
      "not day_CanESM2_historical+rcp26_r1i1p1_19500101-21001231_bccaqv2.ncml\n",
      "not day_CSIRO-Mk3-6-0_historical+rcp85_r1i1p1_19500101-21001231_bccaqv2.ncml\n",
      "Processing CanDCS-U5_CMIP5_ScenarioMIP_CSIRO-Mk3-6-0_CSIRO-Mk3-6-0_rcp45_r1i1p1f1_CAN\n",
      "Daily\n"
     ]
    },
    {
     "name": "stderr",
     "output_type": "stream",
     "text": [
      "/home/pbourg/Projets/xscen/xscen/extract.py:73: FutureWarning: clisops_subset is deprecated and will not be available in future versions. Use xscen.spatial.subset instead.\n"
     ]
    },
    {
     "name": "stdout",
     "output_type": "stream",
     "text": [
      "[########################################] | 100% Completed | 105.11 s\n",
      "not day_CSIRO-Mk3-6-0_historical+rcp26_r1i1p1_19500101-21001231_bccaqv2.ncml\n",
      "not day_CNRM-CM5_historical+rcp85_r1i1p1_19500101-21001231_bccaqv2.ncml\n",
      "Processing CanDCS-U5_CMIP5_ScenarioMIP_CNRM-CM5_CNRM-CM5_rcp45_r1i1p1f1_CAN\n",
      "Daily\n"
     ]
    },
    {
     "name": "stderr",
     "output_type": "stream",
     "text": [
      "/home/pbourg/Projets/xscen/xscen/extract.py:73: FutureWarning: clisops_subset is deprecated and will not be available in future versions. Use xscen.spatial.subset instead.\n"
     ]
    },
    {
     "name": "stdout",
     "output_type": "stream",
     "text": [
      "[########################################] | 100% Completed | 85.99 s\n",
      "not day_CNRM-CM5_historical+rcp26_r1i1p1_19500101-21001231_bccaqv2.ncml\n",
      "not day_CESM1-CAM5_historical+rcp85_r1i1p1_19500101-21001231_bccaqv2.ncml\n",
      "Processing CanDCS-U5_CMIP5_ScenarioMIP_CESM1-CAM5_CESM1-CAM5_rcp45_r1i1p1f1_CAN\n",
      "Daily\n"
     ]
    },
    {
     "name": "stderr",
     "output_type": "stream",
     "text": [
      "/home/pbourg/Projets/xscen/xscen/extract.py:73: FutureWarning: clisops_subset is deprecated and will not be available in future versions. Use xscen.spatial.subset instead.\n"
     ]
    },
    {
     "name": "stdout",
     "output_type": "stream",
     "text": [
      "[########################################] | 100% Completed | 10m 17s\n",
      "not day_CESM1-CAM5_historical+rcp26_r1i1p1_19500101-21001231_bccaqv2.ncml\n",
      "not day_CCSM4_historical+rcp85_r1i1p1_19500101-21001231_bccaqv2.ncml\n",
      "Processing CanDCS-U5_CMIP5_ScenarioMIP_CCSM4_CCSM4_rcp45_r1i1p1f1_CAN\n",
      "Daily\n"
     ]
    },
    {
     "name": "stderr",
     "output_type": "stream",
     "text": [
      "/home/pbourg/Projets/xscen/xscen/extract.py:73: FutureWarning: clisops_subset is deprecated and will not be available in future versions. Use xscen.spatial.subset instead.\n"
     ]
    },
    {
     "name": "stdout",
     "output_type": "stream",
     "text": [
      "[########################################] | 100% Completed | 589.55 s\n",
      "not day_CCSM4_historical+rcp26_r1i1p1_19500101-21001231_bccaqv2.ncml\n",
      "not day_BNU-ESM_historical+rcp85_r1i1p1_19500101-21001231_bccaqv2.ncml\n",
      "Processing CanDCS-U5_CMIP5_ScenarioMIP_BNU-ESM_BNU-ESM_rcp45_r1i1p1f1_CAN\n",
      "not day_BNU-ESM_historical+rcp26_r1i1p1_19500101-21001231_bccaqv2.ncml\n"
     ]
    }
   ],
   "source": [
    "template = 'CanDCS-U5_CMIP5_ScenarioMIP_{model}_{model}_rcp45_r1i1p1f1_CAN'\n",
    "for name, dsi in cat5.datasets.items():\n",
    "    parts = name.split('_')\n",
    "    if not ('rcp45' in parts[2]): # and (parts[1], parts[3]) in pcic12):\n",
    "        print(\"not\", name)\n",
    "        continue\n",
    "        \n",
    "    dsid = template.format(model=parts[1])\n",
    "    print('Processing', dsid)\n",
    "    outfile = Path(f'/exec/pbourg/ESPO-G/indsanal/day_{dsid}_prob-reg.zarr')\n",
    "    if not outfile.is_dir():\n",
    "        print('Daily')\n",
    "        ds = xr.open_dataset(\n",
    "            dsi.access_urls['OPENDAP'],\n",
    "            chunks={'lat': 64, 'lon': 64},\n",
    "        )\n",
    "        ds = xs.extract.clisops_subset(ds, region=probreg)\n",
    "        ds.cf.chunk({'X': -1, 'Y': -1}).to_zarr(outfile)\n",
    "\n",
    "    continue\n",
    "    outfile2 = outfile.parent / outfile.name.replace('day_', 'yr_')\n",
    "    if outfile2.is_dir():\n",
    "        print('Done')\n",
    "        continue\n",
    "    ds = xr.open_zarr(outfile)\n",
    "    out = xr.merge(\n",
    "        [\n",
    "            xc.atmos.daily_freezethaw_cycles(ds=ds, freq='MS'),\n",
    "            xc.atmos.daily_temperature_range(ds=ds, freq='MS'),\n",
    "            create_weight_masks(ds, estrie).squeeze('geom', drop=True).rename('mask')\n",
    "        ]\n",
    "    ).chunk({'time': -1})\n",
    "    print('Monthly')\n",
    "    out.to_zarr(outfile2)"
   ]
  },
  {
   "cell_type": "code",
   "execution_count": null,
   "id": "c2b1c0ae",
   "metadata": {},
   "outputs": [],
   "source": []
  }
 ],
 "metadata": {
  "kernelspec": {
   "display_name": "xscen",
   "language": "python",
   "name": "xscen"
  },
  "language_info": {
   "codemirror_mode": {
    "name": "ipython",
    "version": 3
   },
   "file_extension": ".py",
   "mimetype": "text/x-python",
   "name": "python",
   "nbconvert_exporter": "python",
   "pygments_lexer": "ipython3",
   "version": "3.10.8"
  }
 },
 "nbformat": 4,
 "nbformat_minor": 5
}
